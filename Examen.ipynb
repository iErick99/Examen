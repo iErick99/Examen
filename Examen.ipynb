{
 "cells": [
  {
   "cell_type": "markdown",
   "metadata": {},
   "source": [
    "# Examen"
   ]
  },
  {
   "cell_type": "markdown",
   "metadata": {},
   "source": [
    "## Ejercicio 1"
   ]
  },
  {
   "cell_type": "code",
   "execution_count": 139,
   "metadata": {},
   "outputs": [],
   "source": [
    "%config IPCompleter.greedy=True\n",
    "\n",
    "def ordena(palabras):\n",
    "    \n",
    "    palabras_ordenadas = {}\n",
    "    palabras_ordenadas_final = []\n",
    "    \n",
    "    for i in palabras:\n",
    "        \n",
    "        tamano = str(len(i))\n",
    "        \n",
    "        if tamano not in palabras_ordenadas:\n",
    "            palabras_ordenadas[tamano] = []\n",
    "\n",
    "        palabras_ordenadas[tamano].append(i)\n",
    "            \n",
    "    for i in palabras_ordenadas.values():\n",
    "        i.sort()\n",
    "        palabras_ordenadas_final.extend(i) \n",
    "        \n",
    "    return palabras_ordenadas_final\n",
    "    "
   ]
  },
  {
   "cell_type": "code",
   "execution_count": 140,
   "metadata": {},
   "outputs": [
    {
     "name": "stdout",
     "output_type": "stream",
     "text": [
      "['a', 'z', 'ef', 'zc', 'def']\n",
      "['azul', 'casa', 'hola', 'avion', 'carro', 'silla', 'elefante', 'computadora']\n"
     ]
    }
   ],
   "source": [
    "palabras = ['a', 'zc', 'def', 'z', 'ef']\n",
    "palabras2 = ['hola', 'avion', 'elefante', 'carro', 'computadora', 'silla', 'casa', 'azul']\n",
    "palabras_ordenadas = ordena(palabras)\n",
    "palabras2_ordenadas = ordena(palabras2)\n",
    "print(palabras_ordenadas)\n",
    "print(palabras2_ordenadas)"
   ]
  },
  {
   "cell_type": "markdown",
   "metadata": {},
   "source": [
    "## Ejercicio 2"
   ]
  },
  {
   "cell_type": "code",
   "execution_count": 141,
   "metadata": {},
   "outputs": [],
   "source": [
    "import random as rd\n",
    "\n",
    "diccionario = list('abcdefghijklmnopqrstuvwxyz')\n",
    "\n",
    "def crea_palabras(numero_palabras, longitud_palabra):\n",
    "    \n",
    "    palabras = []\n",
    "    \n",
    "    for i in range(numero_palabras):\n",
    "        \n",
    "        palabra = ''\n",
    "        \n",
    "        while True:\n",
    "            for j in range(longitud_palabra):\n",
    "                \n",
    "                while True:\n",
    "                    letra = diccionario[rd.randint(0,len(diccionario)-1)]\n",
    "                    if not palabra.endswith(letra):\n",
    "                        palabra += letra\n",
    "                        break\n",
    "    \n",
    "            if palabra not in palabras:\n",
    "                palabras.append(palabra) \n",
    "                break\n",
    "    \n",
    "    return palabras"
   ]
  },
  {
   "cell_type": "code",
   "execution_count": 142,
   "metadata": {},
   "outputs": [
    {
     "data": {
      "text/plain": [
       "['apfjnvjnsvokxqkwtzafspuarzpyol',\n",
       " 'bhrapdxgfqhvmudmnuhuiagvhscxql',\n",
       " 'nsjhxdlrtryzozvxbiqaenboagygdf',\n",
       " 'ozpjqcayzwytotwtgauoqgcwkgdrlc',\n",
       " 'fhmabnbjgxmfydmwgemoenaioqygwv',\n",
       " 'iychnznvrwxoxgksiwvybgrfludwtn',\n",
       " 'leujfarewndxawrokxcpelabxtlypi',\n",
       " 'zsoktrnfmnroahpjdqcyrphcvutkdc',\n",
       " 'xknfklybjuvydqcyuvucbpqpgojeni',\n",
       " 'toscvqhjcsjcmjndflunckglvdokdp']"
      ]
     },
     "execution_count": 142,
     "metadata": {},
     "output_type": "execute_result"
    }
   ],
   "source": [
    "palabras_creadas = crea_palabras(10, 30)\n",
    "palabras_creadas"
   ]
  },
  {
   "cell_type": "markdown",
   "metadata": {},
   "source": [
    "## Ejercicio 3"
   ]
  },
  {
   "cell_type": "code",
   "execution_count": 143,
   "metadata": {},
   "outputs": [],
   "source": [
    "import pandas as pd\n",
    "import random as rd\n",
    "\n",
    "pares = [] \n",
    "\n",
    "#Pendiente:  0.6785714285714286\n",
    "#Intersección:  1.892857142857143 \n",
    "#puntos = {'x' : -2, 'y': 1}\n",
    "#puntos2 = {'x' : 0, 'y': 0.5}\n",
    "#puntos3 = {'x' : 1, 'y': 3.5}\n",
    "#pares.append(puntos)\n",
    "#pares.append(puntos2)\n",
    "#pares.append(puntos3)\n",
    "\n",
    "for i in range(5):\n",
    "    \n",
    "    puntos = {}\n",
    "    puntos['x'] = rd.uniform(-10.0, 10.0)\n",
    "    puntos['y'] = rd.uniform(-10.0, 10.0)\n",
    "    pares.append(puntos)\n",
    "    "
   ]
  },
  {
   "cell_type": "code",
   "execution_count": 144,
   "metadata": {},
   "outputs": [
    {
     "data": {
      "text/html": [
       "<div>\n",
       "<style scoped>\n",
       "    .dataframe tbody tr th:only-of-type {\n",
       "        vertical-align: middle;\n",
       "    }\n",
       "\n",
       "    .dataframe tbody tr th {\n",
       "        vertical-align: top;\n",
       "    }\n",
       "\n",
       "    .dataframe thead th {\n",
       "        text-align: right;\n",
       "    }\n",
       "</style>\n",
       "<table border=\"1\" class=\"dataframe\">\n",
       "  <thead>\n",
       "    <tr style=\"text-align: right;\">\n",
       "      <th></th>\n",
       "      <th>x</th>\n",
       "      <th>y</th>\n",
       "    </tr>\n",
       "  </thead>\n",
       "  <tbody>\n",
       "    <tr>\n",
       "      <th>0</th>\n",
       "      <td>-3.437989</td>\n",
       "      <td>3.721393</td>\n",
       "    </tr>\n",
       "    <tr>\n",
       "      <th>1</th>\n",
       "      <td>-0.943373</td>\n",
       "      <td>7.434410</td>\n",
       "    </tr>\n",
       "    <tr>\n",
       "      <th>2</th>\n",
       "      <td>-8.836782</td>\n",
       "      <td>-5.438409</td>\n",
       "    </tr>\n",
       "    <tr>\n",
       "      <th>3</th>\n",
       "      <td>-4.287505</td>\n",
       "      <td>-4.713207</td>\n",
       "    </tr>\n",
       "    <tr>\n",
       "      <th>4</th>\n",
       "      <td>6.439786</td>\n",
       "      <td>0.048361</td>\n",
       "    </tr>\n",
       "  </tbody>\n",
       "</table>\n",
       "</div>"
      ],
      "text/plain": [
       "          x         y\n",
       "0 -3.437989  3.721393\n",
       "1 -0.943373  7.434410\n",
       "2 -8.836782 -5.438409\n",
       "3 -4.287505 -4.713207\n",
       "4  6.439786  0.048361"
      ]
     },
     "execution_count": 144,
     "metadata": {},
     "output_type": "execute_result"
    }
   ],
   "source": [
    "df = pd.DataFrame(pares)\n",
    "df"
   ]
  },
  {
   "cell_type": "code",
   "execution_count": 146,
   "metadata": {},
   "outputs": [
    {
     "name": "stdout",
     "output_type": "stream",
     "text": [
      "Pendiente:  0.4050315261388995\n",
      "Intersección:  1.1069143448354097\n"
     ]
    }
   ],
   "source": [
    "puntos_x = df.x\n",
    "puntos_y = df.y\n",
    "cuadrado = lambda x : x**2 \n",
    "puntos_x_cuadrado = cuadrado(puntos_x)\n",
    "\n",
    "suma_x_cuadrado = sum(puntos_x_cuadrado)\n",
    "suma_x = df.x.sum()\n",
    "suma_y = df.y.sum()\n",
    "suma_productos = 0.0\n",
    "\n",
    "for i in range(len(pares)):\n",
    "    \n",
    "    suma_productos += puntos_x[i]*puntos_y[i]\n",
    "\n",
    "numerador_pendiente = ((len(pares) * suma_productos) - (suma_x * suma_y))    \n",
    "denominador_pendiente = ((len(pares) * suma_x_cuadrado) - (suma_x**2))\n",
    "pendiente = numerador_pendiente / denominador_pendiente\n",
    "\n",
    "interseccion = (suma_y - pendiente*suma_x) / len(pares)\n",
    "             \n",
    "print('Pendiente: ', pendiente)\n",
    "print('Intersección: ', interseccion)"
   ]
  },
  {
   "cell_type": "code",
   "execution_count": null,
   "metadata": {},
   "outputs": [],
   "source": []
  }
 ],
 "metadata": {
  "kernelspec": {
   "display_name": "Python 3",
   "language": "python",
   "name": "python3"
  },
  "language_info": {
   "codemirror_mode": {
    "name": "ipython",
    "version": 3
   },
   "file_extension": ".py",
   "mimetype": "text/x-python",
   "name": "python",
   "nbconvert_exporter": "python",
   "pygments_lexer": "ipython3",
   "version": "3.7.0"
  }
 },
 "nbformat": 4,
 "nbformat_minor": 2
}
